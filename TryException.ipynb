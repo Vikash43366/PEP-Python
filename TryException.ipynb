{
 "cells": [
  {
   "cell_type": "code",
   "execution_count": null,
   "id": "0d7825c7",
   "metadata": {},
   "outputs": [],
   "source": [
    "a=int(input(\"Enter the first number: \"))\n",
    "try:\n",
    "    c = a / b\n",
    "    print(f\"Inside Try. : {c}\")\n",
    "except ZeroDivisionError as e:\n",
    "    print(f\"divided by zero not allwed: {e}\")\n",
    "\n",
    "print(\"Rest of the code.\")"
   ]
  },
  {
   "cell_type": "code",
   "execution_count": null,
   "id": "23dc519f",
   "metadata": {},
   "outputs": [],
   "source": [
    "a=int(input(\"Enter the first number: \"))\n",
    "b=int(input(\"Enter the second number: \"))\n",
    "try:\n",
    "    c = a / b\n",
    "    print(f\"Inside Try. : \",c)\n",
    "except ZeroDivisionError as e:\n",
    "    print(f\"divided by zero not allwed: {e}\")\n",
    "else:\n",
    "    print(\"inside else.\")\n",
    "print(\"Rest of the code.\")"
   ]
  },
  {
   "cell_type": "code",
   "execution_count": null,
   "id": "4b9eb3f5",
   "metadata": {},
   "outputs": [],
   "source": [
    "a=int(input(\"Enter the first number: \"))\n",
    "b=int(input(\"Enter the second number: \"))\n",
    "try:\n",
    "    c=a/b\n",
    "    print(c)\n",
    "except (NameError, ZeroDivisionError) as e:\n",
    "    print(e)\n",
    "print(\"Rest of the code.\")"
   ]
  },
  {
   "cell_type": "code",
   "execution_count": null,
   "id": "529f9d21",
   "metadata": {},
   "outputs": [],
   "source": [
    "class TooYoungException(Exception):\n",
    "    def __init__(self, args):\n",
    "        self.msg = args\n",
    "class TooOldException(Exception):\n",
    "    def __init__(self, args):\n",
    "        self.msg = args\n",
    "age = int(input(\"Enter your age: \"))\n",
    "if age < 60:\n",
    "    raise TooYoungException(\"You are too young\")\n",
    "elif age > 60:\n",
    "    raise TooOldException(\"You are too old\")\n",
    "else:\n",
    "    print(\"good to go\")"
   ]
  },
  {
   "cell_type": "code",
   "execution_count": 15,
   "id": "b5cde5fa",
   "metadata": {},
   "outputs": [
    {
     "name": "stdout",
     "output_type": "stream",
     "text": [
      "You are too young\n"
     ]
    }
   ],
   "source": [
    "class TooYoungException(Exception):\n",
    "    def __init__(self, args):\n",
    "        self.msg = args\n",
    "class TooOldException(Exception):\n",
    "    def __init__(self, args):\n",
    "        self.msg = args\n",
    "age = int(input(\"Enter your age: \"))\n",
    "try:\n",
    "    if age < 60:\n",
    "        raise TooYoungException(\"You are too young\")\n",
    "    elif age > 60:\n",
    "        raise TooOldException(\"You are too old\")\n",
    "    else:\n",
    "        print(\"good to go\")\n",
    "except TooYoungException as e:\n",
    "    print(e.msg)\n",
    "except TooOldException as e:\n",
    "    print(e.msg)    "
   ]
  }
 ],
 "metadata": {
  "kernelspec": {
   "display_name": "Python 3",
   "language": "python",
   "name": "python3"
  },
  "language_info": {
   "codemirror_mode": {
    "name": "ipython",
    "version": 3
   },
   "file_extension": ".py",
   "mimetype": "text/x-python",
   "name": "python",
   "nbconvert_exporter": "python",
   "pygments_lexer": "ipython3",
   "version": "3.9.6"
  }
 },
 "nbformat": 4,
 "nbformat_minor": 5
}
