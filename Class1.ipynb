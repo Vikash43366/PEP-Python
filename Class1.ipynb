{
 "cells": [
  {
   "cell_type": "code",
   "execution_count": null,
   "id": "f72a08d2",
   "metadata": {},
   "outputs": [
    {
     "name": "stdout",
     "output_type": "stream",
     "text": [
      "Constructor called. Initial balance: 1000\n",
      "Account balance: 1000\n",
      "Withdrawn: 200\n",
      "Remaining balance: 800\n",
      "Deposited: 500\n",
      "New balance: 1300\n"
     ]
    }
   ],
   "source": [
    "class Bank(object):\n",
    "    def __init__(self, balance):\n",
    "        self.balance = balance\n",
    "        print(\"Constructor called. Initial balance:\", self.balance)\n",
    "\n",
    "    def account(self):\n",
    "        print(\"Account balance:\", self.balance)\n",
    "\n",
    "    def withdraw(self, amount):\n",
    "        if self.balance >= amount:\n",
    "            self.balance -= amount\n",
    "            print(\"Withdrawn:\", amount)\n",
    "        else:\n",
    "            print(\"Insufficient balance\")\n",
    "        print(\"Remaining balance:\", self.balance)\n",
    "\n",
    "    def deposit(self, amount):\n",
    "        self.balance += amount\n",
    "        print(\"Deposited:\", amount)\n",
    "        print(\"New balance:\", self.balance)\n",
    "\n",
    "x = Bank(1000)      \n",
    "x.account()          \n",
    "x.withdraw(200)      \n",
    "x.deposit(500)      "
   ]
  },
  {
   "cell_type": "code",
   "execution_count": 7,
   "id": "84fd8d65",
   "metadata": {},
   "outputs": [
    {
     "name": "stdout",
     "output_type": "stream",
     "text": [
      "Father's name is John\n",
      "Son's name is Mike\n"
     ]
    }
   ],
   "source": [
    "class Father(object):\n",
    "    def display(self):\n",
    "        print(\"Father's name is John\")\n",
    "\n",
    "class Son(Father):\n",
    "    def show(self):\n",
    "        print(\"Son's name is Mike\")\n",
    "x= Son()\n",
    "x.display()  \n",
    "x.show()   "
   ]
  },
  {
   "cell_type": "code",
   "execution_count": 8,
   "id": "6afc4541",
   "metadata": {},
   "outputs": [
    {
     "name": "stdout",
     "output_type": "stream",
     "text": [
      "Son's name is Mike\n",
      "Father's name is John\n",
      "Grandfather's name is Robert\n"
     ]
    }
   ],
   "source": [
    "class Grandfather(object):\n",
    "    def display(self):\n",
    "        print(\"Grandfather's name is Robert\")\n",
    "\n",
    "class Father(Grandfather):\n",
    "    def show(self):\n",
    "        print(\"Father's name is John\")\n",
    "class Son(Father):\n",
    "    def dis(self):\n",
    "        print(\"Son's name is Mike\")\n",
    "x = Son()\n",
    "x.dis()\n",
    "x.show()\n",
    "x.display()"
   ]
  }
 ],
 "metadata": {
  "kernelspec": {
   "display_name": "Python 3",
   "language": "python",
   "name": "python3"
  },
  "language_info": {
   "codemirror_mode": {
    "name": "ipython",
    "version": 3
   },
   "file_extension": ".py",
   "mimetype": "text/x-python",
   "name": "python",
   "nbconvert_exporter": "python",
   "pygments_lexer": "ipython3",
   "version": "3.9.6"
  }
 },
 "nbformat": 4,
 "nbformat_minor": 5
}
