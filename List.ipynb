{
 "cells": [
  {
   "cell_type": "code",
   "execution_count": null,
   "id": "a19b3c8b",
   "metadata": {},
   "outputs": [],
   "source": [
    "# A list in Python is an ordered, mutable collection of items. Lists can contain elements of different types.\n",
    "\n",
    "# Example of creating a list:\n",
    "fruits = [\"apple\", \"banana\", \"cherry\"]\n",
    "\n",
    "# Accessing elements by index:\n",
    "first_fruit = fruits[0]  # \"apple\"\n",
    "\n",
    "# Adding an element to the list:\n",
    "fruits.append(\"orange\")  # [\"apple\", \"banana\", \"cherry\", \"orange\"]\n",
    "\n",
    "# Removing an element from the list:\n",
    "fruits.remove(\"banana\")  # [\"apple\", \"cherry\", \"orange\"]\n",
    "\n",
    "# Iterating over a list:\n",
    "for fruit in fruits:\n",
    "    print(fruit)"
   ]
  }
 ],
 "metadata": {
  "language_info": {
   "name": "python"
  }
 },
 "nbformat": 4,
 "nbformat_minor": 5
}
