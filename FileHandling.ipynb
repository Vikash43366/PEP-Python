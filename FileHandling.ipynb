{
 "cells": [
  {
   "cell_type": "code",
   "execution_count": 3,
   "id": "186966fd",
   "metadata": {},
   "outputs": [
    {
     "name": "stdout",
     "output_type": "stream",
     "text": [
      "Writing Success\n",
      "Hello\n",
      "My name is Vikash Singh\n",
      "I welcome you\n"
     ]
    }
   ],
   "source": [
    "f = open('student.txt',mode='w')\n",
    "f.write(\"Hello\\n\")\n",
    "f.write(\"My name is Vikash Singh\\n\")\n",
    "f.write(\"I welcome you\")\n",
    "f.close()\n",
    "print(\"Writing Success\")\n",
    "\n",
    "f = open('student.txt',mode='r')\n",
    "data = f.read()\n",
    "print(data)\n",
    "f.close()"
   ]
  }
 ],
 "metadata": {
  "kernelspec": {
   "display_name": "Python 3",
   "language": "python",
   "name": "python3"
  },
  "language_info": {
   "codemirror_mode": {
    "name": "ipython",
    "version": 3
   },
   "file_extension": ".py",
   "mimetype": "text/x-python",
   "name": "python",
   "nbconvert_exporter": "python",
   "pygments_lexer": "ipython3",
   "version": "3.9.6"
  }
 },
 "nbformat": 4,
 "nbformat_minor": 5
}
