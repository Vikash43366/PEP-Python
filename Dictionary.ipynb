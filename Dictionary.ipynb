{
 "cells": [
  {
   "cell_type": "code",
   "execution_count": 3,
   "id": "dd9c8bda",
   "metadata": {},
   "outputs": [
    {
     "name": "stdout",
     "output_type": "stream",
     "text": [
      "fruit: apple\n",
      "number: 42\n",
      "is_valid: True\n",
      "colors: ['red', 'green', 'blue']\n",
      "brand: Toyota\n",
      "integer key: integer key\n",
      "tuple key: tuple as key\n"
     ]
    }
   ],
   "source": [
    "# Creating a large dictionary with various types of keys and values\n",
    "big_dict = {\n",
    "    'fruit': 'apple',\n",
    "    'number': 42,\n",
    "    'is_valid': True,\n",
    "    'colors': ['red', 'green', 'blue'],\n",
    "    'details': {\n",
    "        'brand': 'Toyota',\n",
    "        'year': 2020\n",
    "    },\n",
    "    100: 'integer key',\n",
    "    (1, 2): 'tuple as key'\n",
    "}\n",
    "\n",
    "print(\"fruit:\", big_dict['fruit'])\n",
    "print(\"number:\", big_dict['number'])\n",
    "print(\"is_valid:\", big_dict['is_valid'])\n",
    "print(\"colors:\", big_dict['colors'])\n",
    "print(\"brand:\", big_dict['details']['brand'])\n",
    "print(\"integer key:\", big_dict[100])\n",
    "print(\"tuple key:\", big_dict[(1, 2)])"
   ]
  }
 ],
 "metadata": {
  "kernelspec": {
   "display_name": "Python 3",
   "language": "python",
   "name": "python3"
  },
  "language_info": {
   "codemirror_mode": {
    "name": "ipython",
    "version": 3
   },
   "file_extension": ".py",
   "mimetype": "text/x-python",
   "name": "python",
   "nbconvert_exporter": "python",
   "pygments_lexer": "ipython3",
   "version": "3.9.6"
  }
 },
 "nbformat": 4,
 "nbformat_minor": 5
}
